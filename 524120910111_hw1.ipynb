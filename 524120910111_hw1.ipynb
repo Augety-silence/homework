{
 "cells": [
  {
   "cell_type": "markdown",
   "id": "a1af9a61",
   "metadata": {},
   "source": [
    "Homework 1\n",
    "========\n",
    "### 作业已上传至我的[GitHub账号](https://github.com/Augety-silence/homework)用于原创性证明\n",
    "\n",
    "程序设计，2025年春季\n"
   ]
  },
  {
   "cell_type": "markdown",
   "id": "b7a071d3",
   "metadata": {},
   "source": [
    "### Q1. 多种方式输出带引号的句子（15分）\n",
    "请使用至少8种方式输出以下句子：\n",
    "```\n",
    "\" means quotation. It's commonly used in English\n",
    "```"
   ]
  },
  {
   "cell_type": "code",
   "execution_count": 1,
   "id": "758d338d",
   "metadata": {},
   "outputs": [
    {
     "name": "stdout",
     "output_type": "stream",
     "text": [
      "第1种输出： \" means quotation. It's commonly used in English\n",
      "第2种输出： \" means quotation. It's commonly used in English\n",
      "第3种输出： \" means quotation. It's commonly used in English\n",
      "第4种输出： \" means quotation. It's commonly used in English\n",
      "第5种输出： \" means quotation. It's commonly used in English\n",
      "第6种输出： \" means quotation. It's commonly used in English\n",
      "第7种输出： \" means quotation. It's commonly used in English\n",
      "第8种输出： \" means quotation. It's commonly used in English\n"
     ]
    }
   ],
   "source": [
    "\"\"\"\n",
    "顺手复制\n",
    "\" means quotation. It's commonly used in English\n",
    "\"\"\"\n",
    "# 双引号\n",
    "a=\"\\\" means quotation. It's commonly used in English\"\n",
    "print(\"第1种输出：\",a)\n",
    "\n",
    "# 单引号\n",
    "b='\" means quotation. It\\'s commonly used in English'\n",
    "print(\"第2种输出：\",b)\n",
    "\n",
    "# 三双引号\n",
    "c=\"\"\"\" means quotation. It's commonly used in English\"\"\"\n",
    "print(\"第3种输出：\",c)\n",
    "\n",
    "# 三单引号\n",
    "d='''\" means quotation. It's commonly used in English'''\n",
    "print(\"第4种输出：\",d)\n",
    "\n",
    "# 奇怪的冗杂1.0\n",
    "e='\\\" means quotation. It\\'s commonly used in English'\n",
    "print(\"第5种输出：\",e)\n",
    "\n",
    "# 奇怪的冗杂2.0\n",
    "f=\"\\\" means quotation. It\\'s commonly used in English\"\n",
    "print(\"第6种输出：\",f)\n",
    "\n",
    "# 奇怪的冗杂3.0\n",
    "g='''\\\" means quotation. It\\'s commonly used in English'''\n",
    "print(\"第7种输出：\",g)\n",
    "\n",
    "# 奇怪的冗杂4.0\n",
    "h=\"\"\"\\\" means quotation. It\\'s commonly used in English\"\"\"\n",
    "print(\"第8种输出：\",h)\n",
    "\n"
   ]
  },
  {
   "cell_type": "markdown",
   "id": "5acbd9d7",
   "metadata": {},
   "source": [
    "### Q2. 提取奇偶数子串（15分）\n",
    "根据下述要求，编写一个程序：用户输入一个字符串，将下标为偶数的字符提出来合并成一个新的字符串A，再将下标为奇数的字符提出来合并成一个新的字符串B，再将字符串A和B连接起来并输出。"
   ]
  },
  {
   "cell_type": "code",
   "execution_count": 2,
   "id": "c3bc944f",
   "metadata": {},
   "outputs": [
    {
     "name": "stdout",
     "output_type": "stream",
     "text": [
      "偶数字符串A： 也知wy要rt这一话ali l 写来哈\n",
      "奇数字符串B： 我不道h我wie么段，l nal我下了哈\n",
      "合并字符串A+B： 也知wy要rt这一话ali l 写来哈我不道h我wie么段，l nal我下了哈\n"
     ]
    }
   ],
   "source": [
    "a=input(\"请输入任何你的字符串:\")\n",
    "# 以此为例：我也不知道why我要write这么一段话，all in all 我写下来了哈哈哈\n",
    "b=len(a)\n",
    "# c是奇数串子\n",
    "c=a[0:b-1:2]\n",
    "# d是偶数串子\n",
    "d=a[1:b-1:2]\n",
    "print(\"偶数字符串A：\",d)\n",
    "print(\"奇数字符串B：\",c)\n",
    "print(\"合并字符串A+B：\",d+c)"
   ]
  },
  {
   "cell_type": "markdown",
   "id": "93b0c390",
   "metadata": {},
   "source": [
    "### Q3. 探索str函数：swapcase，capitalize, lower等（17分）\n",
    "接收输入的一句英文，首先对每个字母颠倒大小写，输出到屏幕。再将结果转成每个单词首字母大写，其余小写，输出到屏幕。然后，转成仅首个单词的首字母大写，输出到屏幕。最后，转成全部小写，输出到屏幕。\n",
    "\n",
    "提示：对于课程没有提及的函数，请自行使用搜索引擎查找（编程必备技能），或者查阅相关资料，例如[这个教程](https://www.runoob.com/python3/python3-string.html)"
   ]
  },
  {
   "cell_type": "code",
   "execution_count": null,
   "id": "65a0da67",
   "metadata": {},
   "outputs": [
    {
     "name": "stdout",
     "output_type": "stream",
     "text": [
      "颠倒大小写的结果： mEANS qUOTATION. iT's cOMMONLY uSED iN eNGLISH\n",
      "首字母大写的结果： Means Quotation. It's Commonly Used In English\n",
      "句首词大写的结果： Means quotation. it's commonly used in english\n",
      "全小写的结果： means quotation. it's commonly used in english\n"
     ]
    }
   ],
   "source": [
    "# your codes here\n",
    "a=input(\"请输入任何你的英文字符串:\")\n",
    "# Means Quotation. It's Commonly Used In English 这个为例\n",
    "b=a.swapcase()\n",
    "# 这个方法有问题，比如It's会错误的显示为It'S！ c=b.title()\n",
    "# 尝试分词法\n",
    "c = \" \".join(word.capitalize() for word in b.split())\n",
    "\n",
    "'''\n",
    "不用内置函数检测首字母的存在\n",
    "lenc=len(c)\n",
    "for i in range(lenc-1):\n",
    "    if 97<=ord(c[i+1])<123 and (ord(c[i])<65 or ord(c[i+1])>122):\n",
    "        c=c[:i+1]+chr(ord(c[i+1])-32)+c[i+2:]\n",
    "c=chr(ord(c[0])-32)+c[1:]'\n",
    "'''\n",
    "d=c.capitalize()\n",
    "e=d.lower()\n",
    "\n",
    "print(\"颠倒大小写的结果：\",b)\n",
    "print(\"首字母大写的结果：\",c)\n",
    "print(\"句首词大写的结果：\",d)\n",
    "print(\"全小写的结果：\",e)\n",
    "\n"
   ]
  },
  {
   "cell_type": "markdown",
   "id": "76b2709c",
   "metadata": {},
   "source": [
    "### Q4. 统计行数与单词数（17分）\n",
    "字符串变量`Str`包含多行句子，每个句子只含字母和`whitespace`，其中`whitespace`可能连续出现多个\n",
    "\n",
    "假设`Str`如下：\n",
    "```\n",
    "Str = '''\n",
    "I am so happy because     I finally start doing homework one\n",
    "I am  \tenjoying programing\n",
    "It can do lots of things\n",
    "'''\n",
    "```\n",
    "\n",
    "首先，输出总句子数，输出形式如下（使用`f-strings`）：\n",
    "\n",
    "```\n",
    "这个字符串中，共有...个句子\n",
    "```\n",
    "\n",
    "之后，请使用`for`循环遍历，统计每个句子的单词数，输出形式如下（使用`%-formatting`）：\n",
    "\n",
    "```\n",
    "第...个句子包含...个单词\n",
    "第...个句子包含...个单词\n",
    "第...个句子包含...个单词\n",
    "```\n"
   ]
  },
  {
   "cell_type": "code",
   "execution_count": 3,
   "id": "52241deb",
   "metadata": {},
   "outputs": [
    {
     "name": "stdout",
     "output_type": "stream",
     "text": [
      "这个字符串中，共有3个句子\n",
      "第1个句子包含11个单词\n",
      "第2个句子包含4个单词\n",
      "第3个句子包含6个单词\n"
     ]
    }
   ],
   "source": [
    "Str = '''\n",
    "I am so happy because     I finally start doing homework one\n",
    "I am      enjoying programing\n",
    "It can do lots of things\n",
    "'''\n",
    "# your codes here\n",
    "a=0\n",
    "b=Str.split(\"\\n\")\n",
    "\n",
    "lenStr=len(b)\n",
    "for i in range(lenStr-1):\n",
    "    if b[i] == \"\":\n",
    "        b.pop(i)\n",
    "        lenStr=len(b)\n",
    "print(f'这个字符串中，共有{lenStr}个句子')\n",
    "\n",
    "# 探查器 检查一下输出\n",
    "# print(b)\n",
    "\n",
    "sentence=1\n",
    "for i in range(lenStr):\n",
    "    c=b[i] # 获取列表中句子字符串\n",
    "    lenc=len(c) # 获取字符串长度\n",
    "    number=0\n",
    "    for k in range(lenc-1):\n",
    "        if 65<=ord(c[k])<123 and c[k+1]==\" \" :\n",
    "            number+=1 # 中间单词计数\n",
    "    number+=1 # 末尾单词计数\n",
    "    print(\"第%d个句子包含%d个单词\"%(sentence,number))\n",
    "    sentence+=1\n",
    "\n",
    "    \n"
   ]
  },
  {
   "cell_type": "markdown",
   "id": "a5ba4750",
   "metadata": {},
   "source": [
    "### Q5. 解析豆瓣电影Top250（18分）\n",
    "\n",
    "W老师的另一门课要求从豆瓣爬取TOP250电影的信息，页面见[这里](https://movie.douban.com/top250)。已知电影`肖申克的救赎`和`霸王别姬`的第三行所对应的`html`源码分别如下：\n",
    "```\n",
    "html_for_movie = '''\n",
    "<div class=\"star\">\n",
    "        <span class=\"rating5-t\"></span>\n",
    "        <span class=\"rating_num\" property=\"v:average\">9.7</span>\n",
    "        <span property=\"v:best\" content=\"10.0\"></span>\n",
    "        <span>2995527人评价</span>\n",
    "</div>\n",
    "'''\n",
    "```\n",
    "\n",
    "```\n",
    "html_for_movie = '''\n",
    "<div class=\"star\">\n",
    "        <span class=\"rating5-t\"></span>\n",
    "        <span class=\"rating_num\" property=\"v:average\">9.6</span>\n",
    "        <span property=\"v:best\" content=\"10.0\"></span>\n",
    "        <span>221322人评价</span>\n",
    "</div>\n",
    "'''\n",
    "```\n",
    "\n",
    "请根据目前所学，从`html_for_movie`解析出评分和评价人数，最后将评分和评价人数打印到屏幕即可。\n",
    "\n",
    "**注意**：这里每部电影含有类似的标签结构，即每部电影的`<...>`部分是一样的。你需要根据这个`html`的规律写代码使得这段代码同时适用于两个`html_for_movie`的解析。"
   ]
  },
  {
   "cell_type": "code",
   "execution_count": 86,
   "id": "93749550",
   "metadata": {},
   "outputs": [
    {
     "name": "stdout",
     "output_type": "stream",
     "text": [
      "该电影评分为： 9.7\n",
      "该电影评价人数为： 2995527\n"
     ]
    }
   ],
   "source": [
    "html_for_movie = '''\n",
    "<div class=\"star\">\n",
    "        <span class=\"rating5-t\"></span>\n",
    "        <span class=\"rating_num\" property=\"v:average\">9.7</span>\n",
    "        <span property=\"v:best\" content=\"10.0\"></span>\n",
    "        <span>2995527人评价</span>\n",
    "</div>\n",
    "'''\n",
    "lenc=len(html_for_movie)\n",
    "for i in range(lenc):\n",
    "    if html_for_movie[i:i+7:1]==\"average\":\n",
    "        rating_number=html_for_movie[i+9:i+12:1]\n",
    "        print(\"该电影评分为：\",rating_number)\n",
    "    if html_for_movie[i:i+3:1]==\"人评价\":\n",
    "        #追踪数字\n",
    "        for k in range(i-10,i,1):\n",
    "            if 48<=ord(html_for_movie[k])<=57:\n",
    "                comments_number=html_for_movie[k:i:1]\n",
    "                print(\"该电影评价人数为：\",comments_number)\n",
    "                break"
   ]
  },
  {
   "cell_type": "code",
   "execution_count": 87,
   "id": "2798accf",
   "metadata": {},
   "outputs": [
    {
     "name": "stdout",
     "output_type": "stream",
     "text": [
      "该电影评分为： 9.6\n",
      "该电影评价人数为： 221322\n"
     ]
    }
   ],
   "source": [
    "html_for_movie = '''\n",
    "<div class=\"star\">\n",
    "        <span class=\"rating5-t\"></span>\n",
    "        <span class=\"rating_num\" property=\"v:average\">9.6</span>\n",
    "        <span property=\"v:best\" content=\"10.0\"></span>\n",
    "        <span>221322人评价</span>\n",
    "</div>\n",
    "'''\n",
    "lenc=len(html_for_movie)\n",
    "for i in range(lenc):\n",
    "    if html_for_movie[i:i+7:1]==\"average\":\n",
    "        rating_number=html_for_movie[i+9:i+12:1]\n",
    "        print(\"该电影评分为：\",rating_number)\n",
    "    if html_for_movie[i:i+3:1]==\"人评价\":\n",
    "        #追踪数字\n",
    "        for k in range(i-10,i,1):\n",
    "            if 48<=ord(html_for_movie[k])<=57:\n",
    "                comments_number=html_for_movie[k:i:1]\n",
    "                print(\"该电影评价人数为：\",comments_number)\n",
    "                break"
   ]
  },
  {
   "cell_type": "markdown",
   "id": "b7a10b81",
   "metadata": {},
   "source": [
    "### Q6 计算logit-normal分布（18分）. \n",
    "\n",
    "已知Logit-Normal分布的表达式如下\n",
    "\n",
    "$$f_{X}(x;\\mu ,\\sigma )={\\frac  {1}{\\sigma {\\sqrt  {2\\pi }}}}\\,{\\frac  {1}{x(1-x)}}\\,e^{{-{\\frac  {(\\operatorname {logit}(x)-\\mu )^{2}}{2\\sigma ^{2}}}}}$$\n",
    "\n",
    "其中$${\\operatorname {logit} (p)=\\ln \\left({\\frac {p}{1-p}}\\right)\\quad {\\text{for}}\\quad p\\in (0,1)}.$$\n",
    "\n",
    "假设$\\mu=2, \\sigma = 3$, 计算f(0.7)的值。\n",
    "\n",
    "提示：`math.log()`以e为底，`math.log2()`以2为底, `math.log10()`以10为底\n"
   ]
  },
  {
   "cell_type": "code",
   "execution_count": 90,
   "id": "0d857b19",
   "metadata": {},
   "outputs": [
    {
     "name": "stdout",
     "output_type": "stream",
     "text": [
      "0.5881807532314393\n"
     ]
    }
   ],
   "source": [
    "# your code here\n",
    "import math\n",
    "delta=3\n",
    "x=0.7\n",
    "miu=2\n",
    "calculate1=(1/(delta*(2*math.pi)**0.5))\n",
    "calculate2=(1/(x*(1-x)))\n",
    "calculate4=math.log(x/(1-x))\n",
    "calculate3=math.e**(-(calculate4-miu)**2/(2*(delta**2)))\n",
    "result=calculate1*calculate2*calculate3\n",
    "print(result)"
   ]
  }
 ],
 "metadata": {
  "kernelspec": {
   "display_name": "base",
   "language": "python",
   "name": "python3"
  },
  "language_info": {
   "codemirror_mode": {
    "name": "ipython",
    "version": 3
   },
   "file_extension": ".py",
   "mimetype": "text/x-python",
   "name": "python",
   "nbconvert_exporter": "python",
   "pygments_lexer": "ipython3",
   "version": "3.12.3"
  },
  "toc": {
   "base_numbering": 1,
   "nav_menu": {},
   "number_sections": false,
   "sideBar": true,
   "skip_h1_title": false,
   "title_cell": "Table of Contents",
   "title_sidebar": "Contents",
   "toc_cell": false,
   "toc_position": {
    "height": "calc(100% - 180px)",
    "left": "10px",
    "top": "150px",
    "width": "384px"
   },
   "toc_section_display": true,
   "toc_window_display": false
  }
 },
 "nbformat": 4,
 "nbformat_minor": 5
}
